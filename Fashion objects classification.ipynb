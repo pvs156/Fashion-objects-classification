{
 "cells": [
  {
   "cell_type": "code",
   "execution_count": 1,
   "id": "9ad42a94",
   "metadata": {},
   "outputs": [],
   "source": [
    "import numpy as np\n",
    "import pandas as pd \n",
    "%matplotlib inline\n",
    "import matplotlib as mpl\n",
    "import matplotlib.pyplot as plt "
   ]
  },
  {
   "cell_type": "code",
   "execution_count": 2,
   "id": "cfd22d4f",
   "metadata": {},
   "outputs": [],
   "source": [
    "import tensorflow as tf\n",
    "from tensorflow import keras "
   ]
  },
  {
   "cell_type": "code",
   "execution_count": 3,
   "id": "59a527be",
   "metadata": {},
   "outputs": [],
   "source": [
    "fashion_mnist = keras.datasets.fashion_mnist\n",
    "(X_train_full,Y_train_full), (X_test,Y_test) = fashion_mnist.load_data()"
   ]
  },
  {
   "cell_type": "code",
   "execution_count": 4,
   "id": "9cc923e9",
   "metadata": {},
   "outputs": [],
   "source": [
    "class_names=[\"T-shirt/top\",\"Trousers\",\"Pullover\",\"Dress\",\"Coat\",\"Sandal\",\"Shirt\",\"Sneaker\",\"Bag\",\"Ankle boot\"]"
   ]
  },
  {
   "cell_type": "code",
   "execution_count": 5,
   "id": "6e8e59d1",
   "metadata": {},
   "outputs": [],
   "source": [
    "X_train_full = X_train_full.reshape((60000 , 28 , 28 , 1))\n",
    "X_test = X_test.reshape((10000 ,28 ,28, 1))"
   ]
  },
  {
   "cell_type": "code",
   "execution_count": 6,
   "id": "21becd2f",
   "metadata": {},
   "outputs": [],
   "source": [
    "X_train_n = X_train_full / 255.\n",
    "X_test_n = X_test / 255."
   ]
  },
  {
   "cell_type": "code",
   "execution_count": 7,
   "id": "42e586f2",
   "metadata": {},
   "outputs": [],
   "source": [
    "X_valid , X_train = X_train_n[:5000] , X_train_n[5000:]\n",
    "Y_valid , Y_train = Y_train_full[:5000] , Y_train_full[5000:]\n",
    "X_test = X_test_n"
   ]
  },
  {
   "cell_type": "code",
   "execution_count": 8,
   "id": "ae6929a2",
   "metadata": {},
   "outputs": [],
   "source": [
    "np.random.seed(42)\n",
    "tf.random.set_seed(42)"
   ]
  },
  {
   "cell_type": "code",
   "execution_count": 9,
   "id": "bce741c3",
   "metadata": {},
   "outputs": [],
   "source": [
    "model = keras.models.Sequential()\n",
    "model.add(keras.layers.Conv2D(filters = 32 , kernel_size = (3,3) ,strides=1 ,padding = 'valid' , activation ='relu',input_shape =(28,28,1)))\n",
    "model.add(keras.layers.MaxPooling2D((2,2)))\n",
    "\n",
    "\n",
    "model.add(keras.layers.Flatten())\n",
    "model.add(keras.layers.Dense(300, activation=\"relu\"))\n",
    "model.add(keras.layers.Dense(100, activation=\"relu\"))\n",
    "model.add(keras.layers.Dense(10, activation = \"softmax\"))"
   ]
  },
  {
   "cell_type": "code",
   "execution_count": 10,
   "id": "174a94d5",
   "metadata": {},
   "outputs": [
    {
     "name": "stdout",
     "output_type": "stream",
     "text": [
      "Model: \"sequential\"\n",
      "_________________________________________________________________\n",
      "Layer (type)                 Output Shape              Param #   \n",
      "=================================================================\n",
      "conv2d (Conv2D)              (None, 26, 26, 32)        320       \n",
      "_________________________________________________________________\n",
      "max_pooling2d (MaxPooling2D) (None, 13, 13, 32)        0         \n",
      "_________________________________________________________________\n",
      "flatten (Flatten)            (None, 5408)              0         \n",
      "_________________________________________________________________\n",
      "dense (Dense)                (None, 300)               1622700   \n",
      "_________________________________________________________________\n",
      "dense_1 (Dense)              (None, 100)               30100     \n",
      "_________________________________________________________________\n",
      "dense_2 (Dense)              (None, 10)                1010      \n",
      "=================================================================\n",
      "Total params: 1,654,130\n",
      "Trainable params: 1,654,130\n",
      "Non-trainable params: 0\n",
      "_________________________________________________________________\n"
     ]
    }
   ],
   "source": [
    "model.summary()"
   ]
  },
  {
   "cell_type": "code",
   "execution_count": 11,
   "id": "b65e22ee",
   "metadata": {},
   "outputs": [],
   "source": [
    "model.compile(loss=\"sparse_categorical_crossentropy\",\n",
    "              optimizer = \"sgd\",\n",
    "              metrics =[\"accuracy\"])"
   ]
  },
  {
   "cell_type": "code",
   "execution_count": 12,
   "id": "19064d0c",
   "metadata": {},
   "outputs": [
    {
     "name": "stdout",
     "output_type": "stream",
     "text": [
      "Train on 55000 samples, validate on 5000 samples\n",
      "Epoch 1/30\n",
      "55000/55000 [==============================] - 37s 675us/sample - loss: 0.7278 - accuracy: 0.7449 - val_loss: 0.5013 - val_accuracy: 0.8232\n",
      "Epoch 2/30\n",
      "55000/55000 [==============================] - 36s 659us/sample - loss: 0.4796 - accuracy: 0.8261 - val_loss: 0.4707 - val_accuracy: 0.8252\n",
      "Epoch 3/30\n",
      "55000/55000 [==============================] - 34s 627us/sample - loss: 0.4263 - accuracy: 0.8467 - val_loss: 0.4249 - val_accuracy: 0.8438\n",
      "Epoch 4/30\n",
      "55000/55000 [==============================] - 34s 613us/sample - loss: 0.3853 - accuracy: 0.8616 - val_loss: 0.4033 - val_accuracy: 0.8564\n",
      "Epoch 5/30\n",
      "55000/55000 [==============================] - 33s 596us/sample - loss: 0.3576 - accuracy: 0.8706 - val_loss: 0.3571 - val_accuracy: 0.8736\n",
      "Epoch 6/30\n",
      "55000/55000 [==============================] - 31s 558us/sample - loss: 0.3357 - accuracy: 0.8792 - val_loss: 0.3431 - val_accuracy: 0.8764\n",
      "Epoch 7/30\n",
      "55000/55000 [==============================] - 30s 553us/sample - loss: 0.3167 - accuracy: 0.8860 - val_loss: 0.3540 - val_accuracy: 0.8722\n",
      "Epoch 8/30\n",
      "55000/55000 [==============================] - 31s 564us/sample - loss: 0.3026 - accuracy: 0.8895 - val_loss: 0.3158 - val_accuracy: 0.8884\n",
      "Epoch 9/30\n",
      "55000/55000 [==============================] - 31s 560us/sample - loss: 0.2895 - accuracy: 0.8940 - val_loss: 0.2988 - val_accuracy: 0.8966\n",
      "Epoch 10/30\n",
      "55000/55000 [==============================] - 30s 553us/sample - loss: 0.2771 - accuracy: 0.8981 - val_loss: 0.2921 - val_accuracy: 0.8946\n",
      "Epoch 11/30\n",
      "55000/55000 [==============================] - 30s 553us/sample - loss: 0.2663 - accuracy: 0.9028 - val_loss: 0.2869 - val_accuracy: 0.8980\n",
      "Epoch 12/30\n",
      "55000/55000 [==============================] - 32s 579us/sample - loss: 0.2562 - accuracy: 0.9064 - val_loss: 0.2942 - val_accuracy: 0.8948\n",
      "Epoch 13/30\n",
      "55000/55000 [==============================] - 31s 569us/sample - loss: 0.2458 - accuracy: 0.9103 - val_loss: 0.2805 - val_accuracy: 0.8986\n",
      "Epoch 14/30\n",
      "55000/55000 [==============================] - 30s 541us/sample - loss: 0.2378 - accuracy: 0.9127 - val_loss: 0.2782 - val_accuracy: 0.9022\n",
      "Epoch 15/30\n",
      "55000/55000 [==============================] - 32s 576us/sample - loss: 0.2297 - accuracy: 0.9166 - val_loss: 0.2682 - val_accuracy: 0.9052\n",
      "Epoch 16/30\n",
      "55000/55000 [==============================] - 31s 573us/sample - loss: 0.2225 - accuracy: 0.9184 - val_loss: 0.2823 - val_accuracy: 0.8982\n",
      "Epoch 17/30\n",
      "55000/55000 [==============================] - 31s 564us/sample - loss: 0.2141 - accuracy: 0.9213 - val_loss: 0.2614 - val_accuracy: 0.9080\n",
      "Epoch 18/30\n",
      "55000/55000 [==============================] - 32s 575us/sample - loss: 0.2070 - accuracy: 0.9245 - val_loss: 0.2560 - val_accuracy: 0.9076\n",
      "Epoch 19/30\n",
      "55000/55000 [==============================] - 31s 561us/sample - loss: 0.2000 - accuracy: 0.9267 - val_loss: 0.2623 - val_accuracy: 0.9020\n",
      "Epoch 20/30\n",
      "55000/55000 [==============================] - 32s 581us/sample - loss: 0.1925 - accuracy: 0.9302 - val_loss: 0.2542 - val_accuracy: 0.9102\n",
      "Epoch 21/30\n",
      "55000/55000 [==============================] - 31s 570us/sample - loss: 0.1864 - accuracy: 0.9317 - val_loss: 0.2435 - val_accuracy: 0.9096\n",
      "Epoch 22/30\n",
      "55000/55000 [==============================] - 30s 550us/sample - loss: 0.1787 - accuracy: 0.9351 - val_loss: 0.2509 - val_accuracy: 0.9082\n",
      "Epoch 23/30\n",
      "55000/55000 [==============================] - 30s 538us/sample - loss: 0.1736 - accuracy: 0.9375 - val_loss: 0.2457 - val_accuracy: 0.9088\n",
      "Epoch 24/30\n",
      "55000/55000 [==============================] - 30s 554us/sample - loss: 0.1671 - accuracy: 0.9394 - val_loss: 0.2520 - val_accuracy: 0.9096\n",
      "Epoch 25/30\n",
      "55000/55000 [==============================] - 30s 543us/sample - loss: 0.1610 - accuracy: 0.9427 - val_loss: 0.2489 - val_accuracy: 0.9154\n",
      "Epoch 26/30\n",
      "55000/55000 [==============================] - 30s 540us/sample - loss: 0.1536 - accuracy: 0.9439 - val_loss: 0.2784 - val_accuracy: 0.9016\n",
      "Epoch 27/30\n",
      "55000/55000 [==============================] - 30s 540us/sample - loss: 0.1494 - accuracy: 0.9466 - val_loss: 0.2656 - val_accuracy: 0.9088\n",
      "Epoch 28/30\n",
      "55000/55000 [==============================] - 31s 565us/sample - loss: 0.1420 - accuracy: 0.9493 - val_loss: 0.2523 - val_accuracy: 0.9130\n",
      "Epoch 29/30\n",
      "55000/55000 [==============================] - 30s 545us/sample - loss: 0.1360 - accuracy: 0.9512 - val_loss: 0.2516 - val_accuracy: 0.9128\n",
      "Epoch 30/30\n",
      "55000/55000 [==============================] - 30s 540us/sample - loss: 0.1307 - accuracy: 0.9526 - val_loss: 0.2435 - val_accuracy: 0.9168\n"
     ]
    }
   ],
   "source": [
    "model_history= model.fit(X_train ,Y_train , epochs=30 , validation_data=(X_valid , Y_valid))"
   ]
  },
  {
   "cell_type": "code",
   "execution_count": null,
   "id": "1304dcf1",
   "metadata": {},
   "outputs": [
    {
     "name": "stderr",
     "output_type": "stream",
     "text": [
      "ERROR:root:Internal Python error in the inspect module.\n",
      "Below is the traceback from this internal error.\n",
      "\n",
      "ERROR:root:Internal Python error in the inspect module.\n",
      "Below is the traceback from this internal error.\n",
      "\n",
      "ERROR:root:Internal Python error in the inspect module.\n",
      "Below is the traceback from this internal error.\n",
      "\n"
     ]
    },
    {
     "name": "stdout",
     "output_type": "stream",
     "text": [
      "Traceback (most recent call last):\n",
      "  File \"C:\\Users\\pilla\\anaconda3\\envs\\tensorflow_env\\lib\\site-packages\\IPython\\core\\interactiveshell.py\", line 3343, in run_code\n",
      "    exec(code_obj, self.user_global_ns, self.user_ns)\n",
      "  File \"<ipython-input-13-9a0b7b28b6fd>\", line 5, in <module>\n",
      "    plt.gca.set_ylim(0,1)\n",
      "AttributeError: 'function' object has no attribute 'set_ylim'\n",
      "\n",
      "During handling of the above exception, another exception occurred:\n",
      "\n",
      "Traceback (most recent call last):\n",
      "  File \"C:\\Users\\pilla\\anaconda3\\envs\\tensorflow_env\\lib\\site-packages\\IPython\\core\\interactiveshell.py\", line 2044, in showtraceback\n",
      "    stb = value._render_traceback_()\n",
      "AttributeError: 'AttributeError' object has no attribute '_render_traceback_'\n",
      "\n",
      "During handling of the above exception, another exception occurred:\n",
      "\n",
      "Traceback (most recent call last):\n",
      "  File \"C:\\Users\\pilla\\anaconda3\\envs\\tensorflow_env\\lib\\site-packages\\IPython\\core\\ultratb.py\", line 1169, in get_records\n",
      "    return _fixed_getinnerframes(etb, number_of_lines_of_context, tb_offset)\n",
      "  File \"C:\\Users\\pilla\\anaconda3\\envs\\tensorflow_env\\lib\\site-packages\\IPython\\core\\ultratb.py\", line 316, in wrapped\n",
      "    return f(*args, **kwargs)\n",
      "  File \"C:\\Users\\pilla\\anaconda3\\envs\\tensorflow_env\\lib\\site-packages\\IPython\\core\\ultratb.py\", line 350, in _fixed_getinnerframes\n",
      "    records = fix_frame_records_filenames(inspect.getinnerframes(etb, context))\n",
      "  File \"C:\\Users\\pilla\\anaconda3\\envs\\tensorflow_env\\lib\\inspect.py\", line 1490, in getinnerframes\n",
      "    frameinfo = (tb.tb_frame,) + getframeinfo(tb, context)\n",
      "  File \"C:\\Users\\pilla\\anaconda3\\envs\\tensorflow_env\\lib\\inspect.py\", line 1448, in getframeinfo\n",
      "    filename = getsourcefile(frame) or getfile(frame)\n",
      "  File \"C:\\Users\\pilla\\anaconda3\\envs\\tensorflow_env\\lib\\inspect.py\", line 696, in getsourcefile\n",
      "    if getattr(getmodule(object, filename), '__loader__', None) is not None:\n",
      "  File \"C:\\Users\\pilla\\anaconda3\\envs\\tensorflow_env\\lib\\inspect.py\", line 733, in getmodule\n",
      "    if ismodule(module) and hasattr(module, '__file__'):\n",
      "  File \"C:\\Users\\pilla\\anaconda3\\envs\\tensorflow_env\\lib\\site-packages\\tensorflow\\__init__.py\", line 50, in __getattr__\n",
      "    module = self._load()\n",
      "  File \"C:\\Users\\pilla\\anaconda3\\envs\\tensorflow_env\\lib\\site-packages\\tensorflow\\__init__.py\", line 44, in _load\n",
      "    module = _importlib.import_module(self.__name__)\n",
      "  File \"C:\\Users\\pilla\\anaconda3\\envs\\tensorflow_env\\lib\\importlib\\__init__.py\", line 126, in import_module\n",
      "    return _bootstrap._gcd_import(name[level:], package, level)\n",
      "  File \"<frozen importlib._bootstrap>\", line 994, in _gcd_import\n",
      "  File \"<frozen importlib._bootstrap>\", line 971, in _find_and_load\n",
      "  File \"<frozen importlib._bootstrap>\", line 953, in _find_and_load_unlocked\n",
      "ModuleNotFoundError: No module named 'tensorflow_core.estimator'\n",
      "Traceback (most recent call last):\n",
      "  File \"C:\\Users\\pilla\\anaconda3\\envs\\tensorflow_env\\lib\\site-packages\\IPython\\core\\interactiveshell.py\", line 3343, in run_code\n",
      "    exec(code_obj, self.user_global_ns, self.user_ns)\n",
      "  File \"<ipython-input-13-9a0b7b28b6fd>\", line 5, in <module>\n",
      "    plt.gca.set_ylim(0,1)\n",
      "AttributeError: 'function' object has no attribute 'set_ylim'\n",
      "\n",
      "During handling of the above exception, another exception occurred:\n",
      "\n",
      "Traceback (most recent call last):\n",
      "  File \"C:\\Users\\pilla\\anaconda3\\envs\\tensorflow_env\\lib\\site-packages\\IPython\\core\\interactiveshell.py\", line 2044, in showtraceback\n",
      "    stb = value._render_traceback_()\n",
      "AttributeError: 'AttributeError' object has no attribute '_render_traceback_'\n",
      "\n",
      "During handling of the above exception, another exception occurred:\n",
      "\n",
      "Traceback (most recent call last):\n",
      "  File \"C:\\Users\\pilla\\anaconda3\\envs\\tensorflow_env\\lib\\site-packages\\IPython\\core\\interactiveshell.py\", line 3263, in run_ast_nodes\n",
      "    if (await self.run_code(code, result,  async_=asy)):\n",
      "  File \"C:\\Users\\pilla\\anaconda3\\envs\\tensorflow_env\\lib\\site-packages\\IPython\\core\\interactiveshell.py\", line 3360, in run_code\n",
      "    self.showtraceback(running_compiled_code=True)\n",
      "  File \"C:\\Users\\pilla\\anaconda3\\envs\\tensorflow_env\\lib\\site-packages\\IPython\\core\\interactiveshell.py\", line 2047, in showtraceback\n",
      "    value, tb, tb_offset=tb_offset)\n",
      "  File \"C:\\Users\\pilla\\anaconda3\\envs\\tensorflow_env\\lib\\site-packages\\IPython\\core\\ultratb.py\", line 1436, in structured_traceback\n",
      "    self, etype, value, tb, tb_offset, number_of_lines_of_context)\n",
      "  File \"C:\\Users\\pilla\\anaconda3\\envs\\tensorflow_env\\lib\\site-packages\\IPython\\core\\ultratb.py\", line 1336, in structured_traceback\n",
      "    self, etype, value, tb, tb_offset, number_of_lines_of_context\n",
      "  File \"C:\\Users\\pilla\\anaconda3\\envs\\tensorflow_env\\lib\\site-packages\\IPython\\core\\ultratb.py\", line 1193, in structured_traceback\n",
      "    tb_offset)\n",
      "  File \"C:\\Users\\pilla\\anaconda3\\envs\\tensorflow_env\\lib\\site-packages\\IPython\\core\\ultratb.py\", line 1150, in format_exception_as_a_whole\n",
      "    last_unique, recursion_repeat = find_recursion(orig_etype, evalue, records)\n",
      "  File \"C:\\Users\\pilla\\anaconda3\\envs\\tensorflow_env\\lib\\site-packages\\IPython\\core\\ultratb.py\", line 451, in find_recursion\n",
      "    return len(records), 0\n",
      "TypeError: object of type 'NoneType' has no len()\n",
      "\n",
      "During handling of the above exception, another exception occurred:\n",
      "\n",
      "Traceback (most recent call last):\n",
      "  File \"C:\\Users\\pilla\\anaconda3\\envs\\tensorflow_env\\lib\\site-packages\\IPython\\core\\interactiveshell.py\", line 2044, in showtraceback\n",
      "    stb = value._render_traceback_()\n",
      "AttributeError: 'TypeError' object has no attribute '_render_traceback_'\n",
      "\n",
      "During handling of the above exception, another exception occurred:\n",
      "\n",
      "Traceback (most recent call last):\n",
      "  File \"C:\\Users\\pilla\\anaconda3\\envs\\tensorflow_env\\lib\\site-packages\\IPython\\core\\ultratb.py\", line 1169, in get_records\n",
      "    return _fixed_getinnerframes(etb, number_of_lines_of_context, tb_offset)\n",
      "  File \"C:\\Users\\pilla\\anaconda3\\envs\\tensorflow_env\\lib\\site-packages\\IPython\\core\\ultratb.py\", line 316, in wrapped\n",
      "    return f(*args, **kwargs)\n",
      "  File \"C:\\Users\\pilla\\anaconda3\\envs\\tensorflow_env\\lib\\site-packages\\IPython\\core\\ultratb.py\", line 350, in _fixed_getinnerframes\n",
      "    records = fix_frame_records_filenames(inspect.getinnerframes(etb, context))\n",
      "  File \"C:\\Users\\pilla\\anaconda3\\envs\\tensorflow_env\\lib\\inspect.py\", line 1490, in getinnerframes\n",
      "    frameinfo = (tb.tb_frame,) + getframeinfo(tb, context)\n",
      "  File \"C:\\Users\\pilla\\anaconda3\\envs\\tensorflow_env\\lib\\inspect.py\", line 1448, in getframeinfo\n",
      "    filename = getsourcefile(frame) or getfile(frame)\n",
      "  File \"C:\\Users\\pilla\\anaconda3\\envs\\tensorflow_env\\lib\\inspect.py\", line 696, in getsourcefile\n",
      "    if getattr(getmodule(object, filename), '__loader__', None) is not None:\n",
      "  File \"C:\\Users\\pilla\\anaconda3\\envs\\tensorflow_env\\lib\\inspect.py\", line 733, in getmodule\n",
      "    if ismodule(module) and hasattr(module, '__file__'):\n",
      "  File \"C:\\Users\\pilla\\anaconda3\\envs\\tensorflow_env\\lib\\site-packages\\tensorflow\\__init__.py\", line 50, in __getattr__\n",
      "    module = self._load()\n",
      "  File \"C:\\Users\\pilla\\anaconda3\\envs\\tensorflow_env\\lib\\site-packages\\tensorflow\\__init__.py\", line 44, in _load\n",
      "    module = _importlib.import_module(self.__name__)\n",
      "  File \"C:\\Users\\pilla\\anaconda3\\envs\\tensorflow_env\\lib\\importlib\\__init__.py\", line 126, in import_module\n",
      "    return _bootstrap._gcd_import(name[level:], package, level)\n",
      "  File \"<frozen importlib._bootstrap>\", line 994, in _gcd_import\n",
      "  File \"<frozen importlib._bootstrap>\", line 971, in _find_and_load\n",
      "  File \"<frozen importlib._bootstrap>\", line 953, in _find_and_load_unlocked\n",
      "ModuleNotFoundError: No module named 'tensorflow_core.estimator'\n",
      "Traceback (most recent call last):\n",
      "  File \"C:\\Users\\pilla\\anaconda3\\envs\\tensorflow_env\\lib\\site-packages\\IPython\\core\\interactiveshell.py\", line 3343, in run_code\n",
      "    exec(code_obj, self.user_global_ns, self.user_ns)\n",
      "  File \"<ipython-input-13-9a0b7b28b6fd>\", line 5, in <module>\n",
      "    plt.gca.set_ylim(0,1)\n",
      "AttributeError: 'function' object has no attribute 'set_ylim'\n",
      "\n",
      "During handling of the above exception, another exception occurred:\n",
      "\n",
      "Traceback (most recent call last):\n",
      "  File \"C:\\Users\\pilla\\anaconda3\\envs\\tensorflow_env\\lib\\site-packages\\IPython\\core\\interactiveshell.py\", line 2044, in showtraceback\n",
      "    stb = value._render_traceback_()\n",
      "AttributeError: 'AttributeError' object has no attribute '_render_traceback_'\n",
      "\n",
      "During handling of the above exception, another exception occurred:\n",
      "\n",
      "Traceback (most recent call last):\n",
      "  File \"C:\\Users\\pilla\\anaconda3\\envs\\tensorflow_env\\lib\\site-packages\\IPython\\core\\interactiveshell.py\", line 3263, in run_ast_nodes\n",
      "    if (await self.run_code(code, result,  async_=asy)):\n",
      "  File \"C:\\Users\\pilla\\anaconda3\\envs\\tensorflow_env\\lib\\site-packages\\IPython\\core\\interactiveshell.py\", line 3360, in run_code\n",
      "    self.showtraceback(running_compiled_code=True)\n",
      "  File \"C:\\Users\\pilla\\anaconda3\\envs\\tensorflow_env\\lib\\site-packages\\IPython\\core\\interactiveshell.py\", line 2047, in showtraceback\n",
      "    value, tb, tb_offset=tb_offset)\n",
      "  File \"C:\\Users\\pilla\\anaconda3\\envs\\tensorflow_env\\lib\\site-packages\\IPython\\core\\ultratb.py\", line 1436, in structured_traceback\n",
      "    self, etype, value, tb, tb_offset, number_of_lines_of_context)\n",
      "  File \"C:\\Users\\pilla\\anaconda3\\envs\\tensorflow_env\\lib\\site-packages\\IPython\\core\\ultratb.py\", line 1336, in structured_traceback\n",
      "    self, etype, value, tb, tb_offset, number_of_lines_of_context\n",
      "  File \"C:\\Users\\pilla\\anaconda3\\envs\\tensorflow_env\\lib\\site-packages\\IPython\\core\\ultratb.py\", line 1193, in structured_traceback\n",
      "    tb_offset)\n",
      "  File \"C:\\Users\\pilla\\anaconda3\\envs\\tensorflow_env\\lib\\site-packages\\IPython\\core\\ultratb.py\", line 1150, in format_exception_as_a_whole\n",
      "    last_unique, recursion_repeat = find_recursion(orig_etype, evalue, records)\n",
      "  File \"C:\\Users\\pilla\\anaconda3\\envs\\tensorflow_env\\lib\\site-packages\\IPython\\core\\ultratb.py\", line 451, in find_recursion\n",
      "    return len(records), 0\n",
      "TypeError: object of type 'NoneType' has no len()\n",
      "\n",
      "During handling of the above exception, another exception occurred:\n",
      "\n",
      "Traceback (most recent call last):\n",
      "  File \"C:\\Users\\pilla\\anaconda3\\envs\\tensorflow_env\\lib\\site-packages\\IPython\\core\\interactiveshell.py\", line 2044, in showtraceback\n",
      "    stb = value._render_traceback_()\n",
      "AttributeError: 'TypeError' object has no attribute '_render_traceback_'\n",
      "\n",
      "During handling of the above exception, another exception occurred:\n",
      "\n",
      "Traceback (most recent call last):\n",
      "  File \"C:\\Users\\pilla\\anaconda3\\envs\\tensorflow_env\\lib\\site-packages\\IPython\\core\\interactiveshell.py\", line 2895, in _run_cell\n",
      "    return runner(coro)\n",
      "  File \"C:\\Users\\pilla\\anaconda3\\envs\\tensorflow_env\\lib\\site-packages\\IPython\\core\\async_helpers.py\", line 68, in _pseudo_sync_runner\n",
      "    coro.send(None)\n",
      "  File \"C:\\Users\\pilla\\anaconda3\\envs\\tensorflow_env\\lib\\site-packages\\IPython\\core\\interactiveshell.py\", line 3072, in run_cell_async\n",
      "    interactivity=interactivity, compiler=compiler, result=result)\n",
      "  File \"C:\\Users\\pilla\\anaconda3\\envs\\tensorflow_env\\lib\\site-packages\\IPython\\core\\interactiveshell.py\", line 3282, in run_ast_nodes\n",
      "    self.showtraceback()\n",
      "  File \"C:\\Users\\pilla\\anaconda3\\envs\\tensorflow_env\\lib\\site-packages\\IPython\\core\\interactiveshell.py\", line 2047, in showtraceback\n",
      "    value, tb, tb_offset=tb_offset)\n",
      "  File \"C:\\Users\\pilla\\anaconda3\\envs\\tensorflow_env\\lib\\site-packages\\IPython\\core\\ultratb.py\", line 1436, in structured_traceback\n",
      "    self, etype, value, tb, tb_offset, number_of_lines_of_context)\n",
      "  File \"C:\\Users\\pilla\\anaconda3\\envs\\tensorflow_env\\lib\\site-packages\\IPython\\core\\ultratb.py\", line 1336, in structured_traceback\n",
      "    self, etype, value, tb, tb_offset, number_of_lines_of_context\n",
      "  File \"C:\\Users\\pilla\\anaconda3\\envs\\tensorflow_env\\lib\\site-packages\\IPython\\core\\ultratb.py\", line 1211, in structured_traceback\n",
      "    chained_exceptions_tb_offset)\n",
      "  File \"C:\\Users\\pilla\\anaconda3\\envs\\tensorflow_env\\lib\\site-packages\\IPython\\core\\ultratb.py\", line 1150, in format_exception_as_a_whole\n",
      "    last_unique, recursion_repeat = find_recursion(orig_etype, evalue, records)\n",
      "  File \"C:\\Users\\pilla\\anaconda3\\envs\\tensorflow_env\\lib\\site-packages\\IPython\\core\\ultratb.py\", line 451, in find_recursion\n",
      "    return len(records), 0\n",
      "TypeError: object of type 'NoneType' has no len()\n",
      "\n",
      "During handling of the above exception, another exception occurred:\n",
      "\n",
      "Traceback (most recent call last):\n",
      "  File \"C:\\Users\\pilla\\anaconda3\\envs\\tensorflow_env\\lib\\site-packages\\IPython\\core\\interactiveshell.py\", line 2044, in showtraceback\n",
      "    stb = value._render_traceback_()\n",
      "AttributeError: 'TypeError' object has no attribute '_render_traceback_'\n",
      "\n",
      "During handling of the above exception, another exception occurred:\n",
      "\n",
      "Traceback (most recent call last):\n",
      "  File \"C:\\Users\\pilla\\anaconda3\\envs\\tensorflow_env\\lib\\site-packages\\IPython\\core\\ultratb.py\", line 1169, in get_records\n",
      "    return _fixed_getinnerframes(etb, number_of_lines_of_context, tb_offset)\n",
      "  File \"C:\\Users\\pilla\\anaconda3\\envs\\tensorflow_env\\lib\\site-packages\\IPython\\core\\ultratb.py\", line 316, in wrapped\n",
      "    return f(*args, **kwargs)\n",
      "  File \"C:\\Users\\pilla\\anaconda3\\envs\\tensorflow_env\\lib\\site-packages\\IPython\\core\\ultratb.py\", line 350, in _fixed_getinnerframes\n",
      "    records = fix_frame_records_filenames(inspect.getinnerframes(etb, context))\n",
      "  File \"C:\\Users\\pilla\\anaconda3\\envs\\tensorflow_env\\lib\\inspect.py\", line 1490, in getinnerframes\n",
      "    frameinfo = (tb.tb_frame,) + getframeinfo(tb, context)\n",
      "  File \"C:\\Users\\pilla\\anaconda3\\envs\\tensorflow_env\\lib\\inspect.py\", line 1448, in getframeinfo\n",
      "    filename = getsourcefile(frame) or getfile(frame)\n",
      "  File \"C:\\Users\\pilla\\anaconda3\\envs\\tensorflow_env\\lib\\inspect.py\", line 696, in getsourcefile\n",
      "    if getattr(getmodule(object, filename), '__loader__', None) is not None:\n",
      "  File \"C:\\Users\\pilla\\anaconda3\\envs\\tensorflow_env\\lib\\inspect.py\", line 733, in getmodule\n",
      "    if ismodule(module) and hasattr(module, '__file__'):\n",
      "  File \"C:\\Users\\pilla\\anaconda3\\envs\\tensorflow_env\\lib\\site-packages\\tensorflow\\__init__.py\", line 50, in __getattr__\n",
      "    module = self._load()\n",
      "  File \"C:\\Users\\pilla\\anaconda3\\envs\\tensorflow_env\\lib\\site-packages\\tensorflow\\__init__.py\", line 44, in _load\n",
      "    module = _importlib.import_module(self.__name__)\n",
      "  File \"C:\\Users\\pilla\\anaconda3\\envs\\tensorflow_env\\lib\\importlib\\__init__.py\", line 126, in import_module\n",
      "    return _bootstrap._gcd_import(name[level:], package, level)\n",
      "  File \"<frozen importlib._bootstrap>\", line 994, in _gcd_import\n",
      "  File \"<frozen importlib._bootstrap>\", line 971, in _find_and_load\n",
      "  File \"<frozen importlib._bootstrap>\", line 953, in _find_and_load_unlocked\n",
      "ModuleNotFoundError: No module named 'tensorflow_core.estimator'\n"
     ]
    },
    {
     "data": {
      "image/png": "[encoded data removed]",
      "text/plain": [
       "<Figure size 576x360 with 1 Axes>"
      ]
     },
     "metadata": {
      "needs_background": "light"
     },
     "output_type": "display_data"
    }
   ],
   "source": [
    "import pandas as pd\n",
    "\n",
    "pd.DataFrame(model_history.history).plot(figsize=(8,5))\n",
    "plt.grid(True)\n",
    "plt.gca.set_ylim(0,1)\n",
    "plt.show()"
   ]
  },
  {
   "cell_type": "code",
   "execution_count": 13,
   "id": "fe8ec6b9",
   "metadata": {},
   "outputs": [
    {
     "name": "stdout",
     "output_type": "stream",
     "text": [
      "ERROR! Session/line number was not unique in database. History logging moved to new session 95\n",
      "10000/10000 [==============================] - 2s 155us/sample - loss: 0.2561 - accuracy: 0.9117\n"
     ]
    }
   ],
   "source": [
    "ev = model.evaluate(X_test_n ,Y_test)"
   ]
  },
  {
   "cell_type": "code",
   "execution_count": 14,
   "id": "55980412",
   "metadata": {},
   "outputs": [
    {
     "data": {
      "text/plain": [
       "[0.2560961047232151, 0.9117]"
      ]
     },
     "execution_count": 14,
     "metadata": {},
     "output_type": "execute_result"
    }
   ],
   "source": [
    "ev"
   ]
  },
  {
   "cell_type": "code",
   "execution_count": 15,
   "id": "a2a6816e",
   "metadata": {},
   "outputs": [],
   "source": [
    "X_new = X_test[:3]"
   ]
  },
  {
   "cell_type": "code",
   "execution_count": 16,
   "id": "d58f3371",
   "metadata": {},
   "outputs": [
    {
     "data": {
      "text/plain": [
       "array([9, 2, 1], dtype=int64)"
      ]
     },
     "execution_count": 16,
     "metadata": {},
     "output_type": "execute_result"
    }
   ],
   "source": [
    "Y_pred = model.predict_classes(X_new)\n",
    "Y_pred"
   ]
  },
  {
   "cell_type": "code",
   "execution_count": 17,
   "id": "e6e04415",
   "metadata": {},
   "outputs": [
    {
     "data": {
      "text/plain": [
       "array([9, 2, 1, ..., 8, 1, 5], dtype=uint8)"
      ]
     },
     "execution_count": 17,
     "metadata": {},
     "output_type": "execute_result"
    }
   ],
   "source": [
    "Y_test"
   ]
  },
  {
   "cell_type": "code",
   "execution_count": 18,
   "id": "aff9bbf6",
   "metadata": {},
   "outputs": [
    {
     "name": "stdout",
     "output_type": "stream",
     "text": [
      "AxesImage(54,36;334.8x217.44)\n"
     ]
    },
    {
     "data": {
      "image/png": "[encoded data removed]",
      "text/plain": [
       "<Figure size 432x288 with 1 Axes>"
      ]
     },
     "metadata": {
      "needs_background": "light"
     },
     "output_type": "display_data"
    }
   ],
   "source": [
    "print(plt.imshow(X_test[0].reshape((28,28))))"
   ]
  },
  {
   "cell_type": "code",
   "execution_count": null,
   "id": "2dba30b2",
   "metadata": {},
   "outputs": [],
   "source": []
  }
 ],
 "metadata": {
  "kernelspec": {
   "display_name": "Python 3",
   "language": "python",
   "name": "python3"
  },
  "language_info": {
   "codemirror_mode": {
    "name": "ipython",
    "version": 3
   },
   "file_extension": ".py",
   "mimetype": "text/x-python",
   "name": "python",
   "nbconvert_exporter": "python",
   "pygments_lexer": "ipython3",
   "version": "3.6.13"
  }
 },
 "nbformat": 4,
 "nbformat_minor": 5
}
